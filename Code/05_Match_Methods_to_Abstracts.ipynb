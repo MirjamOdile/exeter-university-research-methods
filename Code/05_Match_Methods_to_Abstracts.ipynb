{
 "cells": [
  {
   "cell_type": "code",
   "execution_count": 1,
   "metadata": {},
   "outputs": [],
   "source": [
    "import re             # regular expressions\n",
    "import string         # string operations\n",
    "import os             # access directories\n",
    "import pandas as pd   # dataframes\n",
    "from tqdm import tqdm # create progress bar (for i in tqdm(list))\n",
    "tqdm.pandas()         # use progress_apply() instead of apply() for progress bar on pandas operations\n",
    "import spacy          # Natural Language Processing library\n",
    "from spaczz.matcher import FuzzyMatcher # fuzzy keyword matching\n",
    "\n",
    "os.chdir('../Data/UoE')"
   ]
  },
  {
   "cell_type": "markdown",
   "metadata": {},
   "source": [
    "# Load and prepare data"
   ]
  },
  {
   "cell_type": "code",
   "execution_count": 5,
   "metadata": {},
   "outputs": [
    {
     "data": {
      "text/html": [
       "<div>\n",
       "<style scoped>\n",
       "    .dataframe tbody tr th:only-of-type {\n",
       "        vertical-align: middle;\n",
       "    }\n",
       "\n",
       "    .dataframe tbody tr th {\n",
       "        vertical-align: top;\n",
       "    }\n",
       "\n",
       "    .dataframe thead th {\n",
       "        text-align: right;\n",
       "    }\n",
       "</style>\n",
       "<table border=\"1\" class=\"dataframe\">\n",
       "  <thead>\n",
       "    <tr style=\"text-align: right;\">\n",
       "      <th></th>\n",
       "      <th>id</th>\n",
       "      <th>college</th>\n",
       "      <th>department</th>\n",
       "      <th>name</th>\n",
       "      <th>role</th>\n",
       "      <th>profile</th>\n",
       "      <th>namelast</th>\n",
       "      <th>namefirst</th>\n",
       "      <th>identifier1</th>\n",
       "      <th>identifier2</th>\n",
       "      <th>publications</th>\n",
       "      <th>authors</th>\n",
       "      <th>dates</th>\n",
       "      <th>titles</th>\n",
       "      <th>abstracts</th>\n",
       "      <th>urls</th>\n",
       "      <th>fields</th>\n",
       "      <th>types</th>\n",
       "      <th>abstracts_matching</th>\n",
       "    </tr>\n",
       "  </thead>\n",
       "  <tbody>\n",
       "    <tr>\n",
       "      <th>0</th>\n",
       "      <td>0</td>\n",
       "      <td>Business School</td>\n",
       "      <td>Economics</td>\n",
       "      <td>Professor Ian Bateman</td>\n",
       "      <td>Professor of Environmental Economics, Director...</td>\n",
       "      <td>https://business-school.exeter.ac.uk/about/peo...</td>\n",
       "      <td>Bateman</td>\n",
       "      <td>Ian</td>\n",
       "      <td>bateman, i</td>\n",
       "      <td>bateman, ian</td>\n",
       "      <td>40</td>\n",
       "      <td>'Fezzi, Carlo', 'Bateman, IJ'</td>\n",
       "      <td>2015-02-04</td>\n",
       "      <td>The Impact of Climate Change on Agriculture: N...</td>\n",
       "      <td>Ricardian (hedonic) analyses of the impact of ...</td>\n",
       "      <td>https://ore.exeter.ac.uk/repository/handle/108...</td>\n",
       "      <td>Economics</td>\n",
       "      <td>article</td>\n",
       "      <td>ricardian  hedonic  analyses of the impact of...</td>\n",
       "    </tr>\n",
       "    <tr>\n",
       "      <th>1</th>\n",
       "      <td>0</td>\n",
       "      <td>Business School</td>\n",
       "      <td>Economics</td>\n",
       "      <td>Professor Ian Bateman</td>\n",
       "      <td>Professor of Environmental Economics, Director...</td>\n",
       "      <td>https://business-school.exeter.ac.uk/about/peo...</td>\n",
       "      <td>Bateman</td>\n",
       "      <td>Ian</td>\n",
       "      <td>bateman, i</td>\n",
       "      <td>bateman, ian</td>\n",
       "      <td>40</td>\n",
       "      <td>'Bateman, IJ', 'Harwood, Amii R.', 'Mace, Geor...</td>\n",
       "      <td>2013-10-25</td>\n",
       "      <td>Ecosystem services: response</td>\n",
       "      <td>NaN</td>\n",
       "      <td>https://ore.exeter.ac.uk/repository/handle/108...</td>\n",
       "      <td>Economics</td>\n",
       "      <td>article</td>\n",
       "      <td>NaN</td>\n",
       "    </tr>\n",
       "    <tr>\n",
       "      <th>2</th>\n",
       "      <td>0</td>\n",
       "      <td>Business School</td>\n",
       "      <td>Economics</td>\n",
       "      <td>Professor Ian Bateman</td>\n",
       "      <td>Professor of Environmental Economics, Director...</td>\n",
       "      <td>https://business-school.exeter.ac.uk/about/peo...</td>\n",
       "      <td>Bateman</td>\n",
       "      <td>Ian</td>\n",
       "      <td>bateman, i</td>\n",
       "      <td>bateman, ian</td>\n",
       "      <td>40</td>\n",
       "      <td>'Bateman, IJ', 'Agarwala, M', \"Bad'ura, T\"</td>\n",
       "      <td>2014-01-08</td>\n",
       "      <td>Pollinator declines: Avoid pitfalls of consens...</td>\n",
       "      <td>NaN</td>\n",
       "      <td>https://ore.exeter.ac.uk/repository/handle/108...</td>\n",
       "      <td>Economics</td>\n",
       "      <td>article</td>\n",
       "      <td>NaN</td>\n",
       "    </tr>\n",
       "    <tr>\n",
       "      <th>3</th>\n",
       "      <td>0</td>\n",
       "      <td>Business School</td>\n",
       "      <td>Economics</td>\n",
       "      <td>Professor Ian Bateman</td>\n",
       "      <td>Professor of Environmental Economics, Director...</td>\n",
       "      <td>https://business-school.exeter.ac.uk/about/peo...</td>\n",
       "      <td>Bateman</td>\n",
       "      <td>Ian</td>\n",
       "      <td>bateman, i</td>\n",
       "      <td>bateman, ian</td>\n",
       "      <td>40</td>\n",
       "      <td>'Bateman, IJ', 'Harwood, Amii R.', 'Mace, Geor...</td>\n",
       "      <td>2013-07-05</td>\n",
       "      <td>Bringing ecosystem services into economic deci...</td>\n",
       "      <td>Landscapes generate a wide range of valuable e...</td>\n",
       "      <td>https://ore.exeter.ac.uk/repository/handle/108...</td>\n",
       "      <td>Economics</td>\n",
       "      <td>article</td>\n",
       "      <td>landscapes generate a wide range of valuable ...</td>\n",
       "    </tr>\n",
       "    <tr>\n",
       "      <th>4</th>\n",
       "      <td>0</td>\n",
       "      <td>Business School</td>\n",
       "      <td>Economics</td>\n",
       "      <td>Professor Ian Bateman</td>\n",
       "      <td>Professor of Environmental Economics, Director...</td>\n",
       "      <td>https://business-school.exeter.ac.uk/about/peo...</td>\n",
       "      <td>Bateman</td>\n",
       "      <td>Ian</td>\n",
       "      <td>bateman, i</td>\n",
       "      <td>bateman, ian</td>\n",
       "      <td>40</td>\n",
       "      <td>'Bateman, IJ', 'Agarwala, M', 'Binner, A', 'Co...</td>\n",
       "      <td>2016-06-22</td>\n",
       "      <td>Spatially explicit integrated modeling and eco...</td>\n",
       "      <td>We present an integrated model of the direct c...</td>\n",
       "      <td>https://ore.exeter.ac.uk/repository/handle/108...</td>\n",
       "      <td>Economics</td>\n",
       "      <td>article</td>\n",
       "      <td>we present an integrated model of the direct ...</td>\n",
       "    </tr>\n",
       "  </tbody>\n",
       "</table>\n",
       "</div>"
      ],
      "text/plain": [
       "   id          college department                   name  \\\n",
       "0   0  Business School  Economics  Professor Ian Bateman   \n",
       "1   0  Business School  Economics  Professor Ian Bateman   \n",
       "2   0  Business School  Economics  Professor Ian Bateman   \n",
       "3   0  Business School  Economics  Professor Ian Bateman   \n",
       "4   0  Business School  Economics  Professor Ian Bateman   \n",
       "\n",
       "                                                role  \\\n",
       "0  Professor of Environmental Economics, Director...   \n",
       "1  Professor of Environmental Economics, Director...   \n",
       "2  Professor of Environmental Economics, Director...   \n",
       "3  Professor of Environmental Economics, Director...   \n",
       "4  Professor of Environmental Economics, Director...   \n",
       "\n",
       "                                             profile namelast namefirst  \\\n",
       "0  https://business-school.exeter.ac.uk/about/peo...  Bateman       Ian   \n",
       "1  https://business-school.exeter.ac.uk/about/peo...  Bateman       Ian   \n",
       "2  https://business-school.exeter.ac.uk/about/peo...  Bateman       Ian   \n",
       "3  https://business-school.exeter.ac.uk/about/peo...  Bateman       Ian   \n",
       "4  https://business-school.exeter.ac.uk/about/peo...  Bateman       Ian   \n",
       "\n",
       "  identifier1   identifier2  publications  \\\n",
       "0  bateman, i  bateman, ian            40   \n",
       "1  bateman, i  bateman, ian            40   \n",
       "2  bateman, i  bateman, ian            40   \n",
       "3  bateman, i  bateman, ian            40   \n",
       "4  bateman, i  bateman, ian            40   \n",
       "\n",
       "                                             authors       dates  \\\n",
       "0                      'Fezzi, Carlo', 'Bateman, IJ'  2015-02-04   \n",
       "1  'Bateman, IJ', 'Harwood, Amii R.', 'Mace, Geor...  2013-10-25   \n",
       "2         'Bateman, IJ', 'Agarwala, M', \"Bad'ura, T\"  2014-01-08   \n",
       "3  'Bateman, IJ', 'Harwood, Amii R.', 'Mace, Geor...  2013-07-05   \n",
       "4  'Bateman, IJ', 'Agarwala, M', 'Binner, A', 'Co...  2016-06-22   \n",
       "\n",
       "                                              titles  \\\n",
       "0  The Impact of Climate Change on Agriculture: N...   \n",
       "1                       Ecosystem services: response   \n",
       "2  Pollinator declines: Avoid pitfalls of consens...   \n",
       "3  Bringing ecosystem services into economic deci...   \n",
       "4  Spatially explicit integrated modeling and eco...   \n",
       "\n",
       "                                           abstracts  \\\n",
       "0  Ricardian (hedonic) analyses of the impact of ...   \n",
       "1                                                NaN   \n",
       "2                                                NaN   \n",
       "3  Landscapes generate a wide range of valuable e...   \n",
       "4  We present an integrated model of the direct c...   \n",
       "\n",
       "                                                urls     fields    types  \\\n",
       "0  https://ore.exeter.ac.uk/repository/handle/108...  Economics  article   \n",
       "1  https://ore.exeter.ac.uk/repository/handle/108...  Economics  article   \n",
       "2  https://ore.exeter.ac.uk/repository/handle/108...  Economics  article   \n",
       "3  https://ore.exeter.ac.uk/repository/handle/108...  Economics  article   \n",
       "4  https://ore.exeter.ac.uk/repository/handle/108...  Economics  article   \n",
       "\n",
       "                                  abstracts_matching  \n",
       "0   ricardian  hedonic  analyses of the impact of...  \n",
       "1                                                NaN  \n",
       "2                                                NaN  \n",
       "3   landscapes generate a wide range of valuable ...  \n",
       "4   we present an integrated model of the direct ...  "
      ]
     },
     "execution_count": 5,
     "metadata": {},
     "output_type": "execute_result"
    }
   ],
   "source": [
    "df = pd.read_csv('UoE_staff_publications_theses.csv')\n",
    "df['abstracts_matching'] = ' ' + df.abstracts.str.replace('[{}]'.format(string.punctuation), ' ', regex = True).str.lower() + ' '\n",
    "df.head()"
   ]
  },
  {
   "cell_type": "code",
   "execution_count": 6,
   "metadata": {},
   "outputs": [
    {
     "data": {
      "text/html": [
       "<div>\n",
       "<style scoped>\n",
       "    .dataframe tbody tr th:only-of-type {\n",
       "        vertical-align: middle;\n",
       "    }\n",
       "\n",
       "    .dataframe tbody tr th {\n",
       "        vertical-align: top;\n",
       "    }\n",
       "\n",
       "    .dataframe thead th {\n",
       "        text-align: right;\n",
       "    }\n",
       "</style>\n",
       "<table border=\"1\" class=\"dataframe\">\n",
       "  <thead>\n",
       "    <tr style=\"text-align: right;\">\n",
       "      <th></th>\n",
       "      <th>method</th>\n",
       "      <th>method_lower</th>\n",
       "      <th>method_matching</th>\n",
       "    </tr>\n",
       "  </thead>\n",
       "  <tbody>\n",
       "    <tr>\n",
       "      <th>0</th>\n",
       "      <td>Abduction</td>\n",
       "      <td>abduction</td>\n",
       "      <td>abduction</td>\n",
       "    </tr>\n",
       "    <tr>\n",
       "      <th>1</th>\n",
       "      <td>A/b test</td>\n",
       "      <td>a/b test</td>\n",
       "      <td>a b test</td>\n",
       "    </tr>\n",
       "    <tr>\n",
       "      <th>2</th>\n",
       "      <td>Accelerated longitudinal design</td>\n",
       "      <td>accelerated longitudinal design</td>\n",
       "      <td>accelerated longitudinal design</td>\n",
       "    </tr>\n",
       "    <tr>\n",
       "      <th>3</th>\n",
       "      <td>Action research</td>\n",
       "      <td>action research</td>\n",
       "      <td>action research</td>\n",
       "    </tr>\n",
       "    <tr>\n",
       "      <th>4</th>\n",
       "      <td>Activity theory</td>\n",
       "      <td>activity theory</td>\n",
       "      <td>activity theory</td>\n",
       "    </tr>\n",
       "  </tbody>\n",
       "</table>\n",
       "</div>"
      ],
      "text/plain": [
       "                            method                     method_lower  \\\n",
       "0                        Abduction                        abduction   \n",
       "1                         A/b test                         a/b test   \n",
       "2  Accelerated longitudinal design  accelerated longitudinal design   \n",
       "3                  Action research                  action research   \n",
       "4                  Activity theory                  activity theory   \n",
       "\n",
       "                     method_matching  \n",
       "0                         abduction   \n",
       "1                          a b test   \n",
       "2   accelerated longitudinal design   \n",
       "3                   action research   \n",
       "4                   activity theory   "
      ]
     },
     "execution_count": 6,
     "metadata": {},
     "output_type": "execute_result"
    }
   ],
   "source": [
    "methods = pd.read_csv('methods.csv')\n",
    "methods['method_matching'] = ' ' + methods.method_lower.str.replace('[{}]'.format(string.punctuation), ' ', regex = True) + ' '\n",
    "m = methods[['method', 'method_lower', 'method_matching']].drop_duplicates('method_matching').reset_index(drop = True)\n",
    "m.head()"
   ]
  },
  {
   "cell_type": "markdown",
   "metadata": {},
   "source": [
    "# spaczz: FuzzyMatcher"
   ]
  },
  {
   "cell_type": "code",
   "execution_count": 9,
   "metadata": {
    "scrolled": true
   },
   "outputs": [],
   "source": [
    "# Set up matcher\n",
    "nlp = spacy.blank(\"en\")\n",
    "matcher = FuzzyMatcher(nlp.vocab, min_r2=90)\n",
    "for i, method in enumerate(m.method):\n",
    "    matcher.add(method, [nlp(m['method_lower'][i])])"
   ]
  },
  {
   "cell_type": "code",
   "execution_count": 11,
   "metadata": {},
   "outputs": [
    {
     "name": "stderr",
     "output_type": "stream",
     "text": [
      "100%|████████████████████████████████████| 31142/31142 [00:53<00:00, 580.29it/s]\n"
     ]
    }
   ],
   "source": [
    "# Preprocess the abstracts (This takes ~ 1hour)\n",
    "df['abstract_nlp'] = df.abstracts.progress_apply(lambda x: nlp(x) if pd.notnull(x) else x)"
   ]
  },
  {
   "cell_type": "code",
   "execution_count": 12,
   "metadata": {},
   "outputs": [
    {
     "name": "stderr",
     "output_type": "stream",
     "text": [
      "100%|██████████████████████████████████| 31142/31142 [19:21:07<00:00,  2.24s/it]\n"
     ]
    }
   ],
   "source": [
    "# Match the methods (This takes ~ 20hours!)\n",
    "df['matches'] = df.abstract_nlp.progress_apply(lambda x: matcher(x) if pd.notnull(x) else x)"
   ]
  },
  {
   "cell_type": "code",
   "execution_count": 13,
   "metadata": {},
   "outputs": [
    {
     "name": "stderr",
     "output_type": "stream",
     "text": [
      "100%|█████████████████████████████████| 31142/31142 [00:00<00:00, 121430.94it/s]\n",
      "100%|██████████████████████████████████| 31142/31142 [00:02<00:00, 11542.85it/s]\n",
      "100%|█████████████████████████████████| 31142/31142 [00:00<00:00, 254706.34it/s]\n"
     ]
    }
   ],
   "source": [
    "# Extract the matched methods from the spaczz matches objects\n",
    "df['methods'] = df.matches.progress_apply(lambda x: [i[0] for i in x] if type(x) == list else x)\n",
    "df['methods_tokens'] = df.progress_apply(lambda x: [x['abstract_nlp'][j[0]:j[1]] for j in [i[1:3] for i in x['matches']]] if type(x['matches']) == list else x['matches'], axis = 1)\n",
    "df['match_ratios'] = df.matches.progress_apply(lambda x: [i[3] for i in x] if type(x) == list else x)"
   ]
  },
  {
   "cell_type": "code",
   "execution_count": 14,
   "metadata": {},
   "outputs": [],
   "source": [
    "# Save the data\n",
    "df.to_csv('UoE_staff_publications_theses_spaczz_matches.csv')\n",
    "df.to_json(\"UoE_staff_publications_theses_spaczz_matches.json\", default_handler=str) # Saving as json handles the nested lists better"
   ]
  },
  {
   "cell_type": "markdown",
   "metadata": {},
   "source": [
    "# fuzzysearch: find_near_matches"
   ]
  },
  {
   "cell_type": "code",
   "execution_count": 15,
   "metadata": {},
   "outputs": [],
   "source": [
    "# %time\n",
    "# index_list = []\n",
    "# match_list = []\n",
    "# my_string = methods.method_matching[0]\n",
    "# for i, abstract in enumerate(tqdm(df.abstracts_matching)):\n",
    "#     try:\n",
    "#         match = find_near_matches(my_string, abstract, max_l_dist=1)\n",
    "#         if match != []:\n",
    "#             index_list.append(i)\n",
    "#             match_list.append(match)\n",
    "#     except:\n",
    "#         pass\n",
    "# #         match_list.append(None)"
   ]
  },
  {
   "cell_type": "code",
   "execution_count": 16,
   "metadata": {},
   "outputs": [],
   "source": [
    "# index_list"
   ]
  },
  {
   "cell_type": "code",
   "execution_count": 17,
   "metadata": {},
   "outputs": [],
   "source": [
    "# match_list"
   ]
  },
  {
   "cell_type": "code",
   "execution_count": 18,
   "metadata": {
    "scrolled": true
   },
   "outputs": [],
   "source": [
    "# %time\n",
    "# df['match'] = df[df.abstracts_matching.isnull() == False].abstracts_matching.apply(lambda x: find_near_matches(my_string, x, max_l_dist=1))"
   ]
  }
 ],
 "metadata": {
  "kernelspec": {
   "display_name": "cards-github",
   "language": "python",
   "name": "cards-github"
  },
  "language_info": {
   "codemirror_mode": {
    "name": "ipython",
    "version": 3
   },
   "file_extension": ".py",
   "mimetype": "text/x-python",
   "name": "python",
   "nbconvert_exporter": "python",
   "pygments_lexer": "ipython3",
   "version": "3.8.10"
  }
 },
 "nbformat": 4,
 "nbformat_minor": 4
}
