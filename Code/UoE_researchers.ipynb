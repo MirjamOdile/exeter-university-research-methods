{
 "cells": [
  {
   "cell_type": "code",
   "execution_count": 168,
   "metadata": {},
   "outputs": [
    {
     "ename": "FileNotFoundError",
     "evalue": "[Errno 2] No such file or directory: '../Data/UoE'",
     "output_type": "error",
     "traceback": [
      "\u001b[0;31m---------------------------------------------------------------------------\u001b[0m",
      "\u001b[0;31mFileNotFoundError\u001b[0m                         Traceback (most recent call last)",
      "\u001b[0;32m<ipython-input-168-031654d61dcd>\u001b[0m in \u001b[0;36m<module>\u001b[0;34m\u001b[0m\n\u001b[1;32m      6\u001b[0m \u001b[0;32mimport\u001b[0m \u001b[0mpandas\u001b[0m \u001b[0;32mas\u001b[0m \u001b[0mpd\u001b[0m   \u001b[0;31m# dataframes\u001b[0m\u001b[0;34m\u001b[0m\u001b[0;34m\u001b[0m\u001b[0m\n\u001b[1;32m      7\u001b[0m \u001b[0;32mfrom\u001b[0m \u001b[0mtqdm\u001b[0m \u001b[0;32mimport\u001b[0m \u001b[0mtqdm\u001b[0m \u001b[0;31m# create progress bar (for i in tqdm(list))\u001b[0m\u001b[0;34m\u001b[0m\u001b[0;34m\u001b[0m\u001b[0m\n\u001b[0;32m----> 8\u001b[0;31m \u001b[0mos\u001b[0m\u001b[0;34m.\u001b[0m\u001b[0mchdir\u001b[0m\u001b[0;34m(\u001b[0m\u001b[0;34m'../Data/UoE'\u001b[0m\u001b[0;34m)\u001b[0m\u001b[0;34m\u001b[0m\u001b[0;34m\u001b[0m\u001b[0m\n\u001b[0m",
      "\u001b[0;31mFileNotFoundError\u001b[0m: [Errno 2] No such file or directory: '../Data/UoE'"
     ]
    }
   ],
   "source": [
    "import requests       # send requests to web server\n",
    "from lxml import html # parse HTML\n",
    "import json           # store data as json file\n",
    "import re             # regular expressions\n",
    "import os             # access directories\n",
    "import pandas as pd   # dataframes\n",
    "from tqdm import tqdm # create progress bar (for i in tqdm(list))\n",
    "os.chdir('../Data/UoE')"
   ]
  },
  {
   "cell_type": "code",
   "execution_count": null,
   "metadata": {},
   "outputs": [],
   "source": [
    "# All departments\n",
    "https://www.exeter.ac.uk/departments/"
   ]
  },
  {
   "cell_type": "markdown",
   "metadata": {},
   "source": [
    "### The Business School\n",
    "#### https://business-school.exeter.ac.uk/about/people/academic/\n",
    "https://business-school.exeter.ac.uk/about/people/economics/\n",
    "http://business-school.exeter.ac.uk/about/people/finance/\n",
    "https://business-school.exeter.ac.uk/about/people/management/\n",
    "https://business-school.exeter.ac.uk/about/people/site/\n",
    "https://business-school.exeter.ac.uk/about/people/sustainable-futures/\n",
    "https://business-school.exeter.ac.uk/about/people/pgr/\n",
    "\n",
    "\n",
    "### College of Engineering, Mathematics and Physical Sciences\n",
    "https://emps.exeter.ac.uk/staff/academic/\n",
    "https://emps.exeter.ac.uk/staff/researchstaff/\n",
    "https://emps.exeter.ac.uk/staff/pgrstudents/\n",
    "?https://emps.exeter.ac.uk/staff/honorarystaffvisitors/\n",
    "    \n",
    "### College of Humanities\n",
    "https://humanities.exeter.ac.uk/staff/\n",
    "https://humanities.exeter.ac.uk/archaeology/staff/\n",
    "https://humanities.exeter.ac.uk/arthistory/staff/\n",
    "https://humanities.exeter.ac.uk/classics/staff/    \n",
    "https://humanities.exeter.ac.uk/drama/staff/\n",
    "https://humanities.exeter.ac.uk/english/staff/\n",
    "https://humanities.exeter.ac.uk/film/staff/\n",
    "https://humanities.exeter.ac.uk/history/staff/\n",
    "https://humanities.exeter.ac.uk/liberalarts/ourpeople/staffprofiles/\n",
    "https://humanities.exeter.ac.uk/modernlanguages/staff/\n",
    "https://humanities.exeter.ac.uk/theology/staff/\n",
    "\n",
    "### College of Life and Environmental Sciences\n",
    "https://biosciences.exeter.ac.uk/cec/staff/\n",
    "http://geography.exeter.ac.uk/exeter/staff/\n",
    "https://psychology.exeter.ac.uk/staff/academicstaff/\n",
    "https://psychology.exeter.ac.uk/staff/research/\n",
    "?? https://psychology.exeter.ac.uk/staff/pgrstudents/\n",
    "https://sshs.exeter.ac.uk/staff/academic/\n",
    "https://sshs.exeter.ac.uk/staff/research/\n",
    "?? https://sshs.exeter.ac.uk/staff/researchstudents/\n",
    "\n",
    "### College of Medicine and Health\n",
    "https://medicine.exeter.ac.uk/people/academic/\n",
    "https://medicine.exeter.ac.uk/people/researchstudents/\n",
    "\n",
    "### College of Social Sciences and International Studies\n",
    "http://socialsciences.exeter.ac.uk/iais/staff/\n",
    "https://socialsciences.exeter.ac.uk/education/staff/all/\n",
    "http://socialsciences.exeter.ac.uk/law/staff/\n",
    "http://socialsciences.exeter.ac.uk/politics/staff/\n",
    "http://socialsciences.exeter.ac.uk/sociology/staff/\n",
    "http://www.exeter.ac.uk/strategy/people/\n"
   ]
  },
  {
   "cell_type": "code",
   "execution_count": null,
   "metadata": {},
   "outputs": [],
   "source": [
    "### The Business School\n",
    "#### https://business-school.exeter.ac.uk/about/people/academic/\n",
    "https://business-school.exeter.ac.uk/about/people/economics/\n",
    "http://business-school.exeter.ac.uk/about/people/finance/\n",
    "https://business-school.exeter.ac.uk/about/people/management/\n",
    "https://business-school.exeter.ac.uk/about/people/site/\n",
    "https://business-school.exeter.ac.uk/about/people/sustainable-futures/\n",
    "https://business-school.exeter.ac.uk/about/people/pgr/"
   ]
  },
  {
   "cell_type": "code",
   "execution_count": 5,
   "metadata": {},
   "outputs": [],
   "source": [
    "url = 'https://business-school.exeter.ac.uk/about/people/economics/'\n",
    "page = requests.get(url)\n",
    "tree = html.fromstring(page.content)\n",
    "tree.make_links_absolute(url)"
   ]
  },
  {
   "cell_type": "code",
   "execution_count": 158,
   "metadata": {},
   "outputs": [
    {
     "name": "stdout",
     "output_type": "stream",
     "text": [
      "Professor Ian Bateman\n",
      "Professor of Environmental Economics, Director of the Land, Environment, Economics and Policy Institute (LEEP) and Director of the South West Partnership for Environment & Economic Prosperity (SWEEP)\n",
      "https://business-school.exeter.ac.uk/about/people/profile/index.php?web_id=Ian_Bateman\n"
     ]
    }
   ],
   "source": [
    "# Print the info and URL of the first staff member\n",
    "print(tree.xpath('//*[@class=\"profile_list\"]/tr[2]/td[1]/a/text()')[0])\n",
    "print(tree.xpath('//*[@class=\"profile_list\"]/tr[2]/td[2]/text()')[0])\n",
    "print(tree.xpath('//*[@class=\"profile_list\"]/tr[2]/td[1]/a/@href')[0])"
   ]
  },
  {
   "cell_type": "code",
   "execution_count": 152,
   "metadata": {},
   "outputs": [
    {
     "name": "stdout",
     "output_type": "stream",
     "text": [
      "1 Professors\n",
      "22 Lecturers\n",
      "68 Research Fellows\n",
      "73 Landscape Decisions Fellows\n",
      "75 Dragon Capital Chair in Biodiversity Economicss\n",
      "77 Academic Support Administrators\n",
      "79 SWEEP Impact Fellow\n"
     ]
    }
   ],
   "source": [
    "for i in range(1,500):\n",
    "    path = '//*[@class=\"profile_list\"]/tr['+str(i)+']/th/text()'\n",
    "    if tree.xpath(path) != []:\n",
    "        print(i, tree.xpath(path)[0])"
   ]
  },
  {
   "cell_type": "code",
   "execution_count": 172,
   "metadata": {
    "scrolled": true
   },
   "outputs": [
    {
     "data": {
      "text/html": [
       "<div>\n",
       "<style scoped>\n",
       "    .dataframe tbody tr th:only-of-type {\n",
       "        vertical-align: middle;\n",
       "    }\n",
       "\n",
       "    .dataframe tbody tr th {\n",
       "        vertical-align: top;\n",
       "    }\n",
       "\n",
       "    .dataframe thead th {\n",
       "        text-align: right;\n",
       "    }\n",
       "</style>\n",
       "<table border=\"1\" class=\"dataframe\">\n",
       "  <thead>\n",
       "    <tr style=\"text-align: right;\">\n",
       "      <th></th>\n",
       "      <th>college</th>\n",
       "      <th>department</th>\n",
       "      <th>name</th>\n",
       "      <th>role</th>\n",
       "      <th>url</th>\n",
       "    </tr>\n",
       "  </thead>\n",
       "  <tbody>\n",
       "    <tr>\n",
       "      <th>0</th>\n",
       "      <td>The Business School</td>\n",
       "      <td>Economics</td>\n",
       "      <td>Professor Ian Bateman</td>\n",
       "      <td>Professor of Environmental Economics, Director...</td>\n",
       "      <td>https://business-school.exeter.ac.uk/about/peo...</td>\n",
       "    </tr>\n",
       "    <tr>\n",
       "      <th>1</th>\n",
       "      <td>The Business School</td>\n",
       "      <td>Economics</td>\n",
       "      <td>Professor Giuseppe Cavaliere</td>\n",
       "      <td>Distinguished Research Professor</td>\n",
       "      <td>https://business-school.exeter.ac.uk/about/peo...</td>\n",
       "    </tr>\n",
       "    <tr>\n",
       "      <th>2</th>\n",
       "      <td>The Business School</td>\n",
       "      <td>Economics</td>\n",
       "      <td>Professor Surajeet Chakravarty</td>\n",
       "      <td>Associate Professor in Economics, Director of ...</td>\n",
       "      <td>https://business-school.exeter.ac.uk/about/peo...</td>\n",
       "    </tr>\n",
       "    <tr>\n",
       "      <th>3</th>\n",
       "      <td>The Business School</td>\n",
       "      <td>Economics</td>\n",
       "      <td>Professor Carlos Cortinhas</td>\n",
       "      <td>Associate Professor of Economics</td>\n",
       "      <td>https://business-school.exeter.ac.uk/about/peo...</td>\n",
       "    </tr>\n",
       "    <tr>\n",
       "      <th>4</th>\n",
       "      <td>The Business School</td>\n",
       "      <td>Economics</td>\n",
       "      <td>Professor James Davidson</td>\n",
       "      <td>Emeritus Professor of Econometrics</td>\n",
       "      <td>https://business-school.exeter.ac.uk/about/peo...</td>\n",
       "    </tr>\n",
       "    <tr>\n",
       "      <th>...</th>\n",
       "      <td>...</td>\n",
       "      <td>...</td>\n",
       "      <td>...</td>\n",
       "      <td>...</td>\n",
       "      <td>...</td>\n",
       "    </tr>\n",
       "    <tr>\n",
       "      <th>68</th>\n",
       "      <td>The Business School</td>\n",
       "      <td>Economics</td>\n",
       "      <td>Dr Luca Salvadori</td>\n",
       "      <td>Postdoctoral Research Fellow (TARC)</td>\n",
       "      <td>https://business-school.exeter.ac.uk/about/peo...</td>\n",
       "    </tr>\n",
       "    <tr>\n",
       "      <th>69</th>\n",
       "      <td>The Business School</td>\n",
       "      <td>Economics</td>\n",
       "      <td>Dr Christopher Lee</td>\n",
       "      <td>Landscape Decisions Fellow</td>\n",
       "      <td>https://business-school.exeter.ac.uk/about/peo...</td>\n",
       "    </tr>\n",
       "    <tr>\n",
       "      <th>70</th>\n",
       "      <td>The Business School</td>\n",
       "      <td>Economics</td>\n",
       "      <td>Professor Ben Groom</td>\n",
       "      <td>Dragon Capital Chair in Biodiversity Economics</td>\n",
       "      <td>https://business-school.exeter.ac.uk/about/peo...</td>\n",
       "    </tr>\n",
       "    <tr>\n",
       "      <th>71</th>\n",
       "      <td>The Business School</td>\n",
       "      <td>Economics</td>\n",
       "      <td>Irene McManus</td>\n",
       "      <td>Academic Support Administrator (Economics)</td>\n",
       "      <td>https://business-school.exeter.ac.uk/about/peo...</td>\n",
       "    </tr>\n",
       "    <tr>\n",
       "      <th>72</th>\n",
       "      <td>The Business School</td>\n",
       "      <td>Economics</td>\n",
       "      <td>Kate Hind</td>\n",
       "      <td>SWEEP Impact Fellow</td>\n",
       "      <td>https://business-school.exeter.ac.uk/about/peo...</td>\n",
       "    </tr>\n",
       "  </tbody>\n",
       "</table>\n",
       "<p>73 rows × 5 columns</p>\n",
       "</div>"
      ],
      "text/plain": [
       "                college department                            name  \\\n",
       "0   The Business School  Economics           Professor Ian Bateman   \n",
       "1   The Business School  Economics    Professor Giuseppe Cavaliere   \n",
       "2   The Business School  Economics  Professor Surajeet Chakravarty   \n",
       "3   The Business School  Economics      Professor Carlos Cortinhas   \n",
       "4   The Business School  Economics        Professor James Davidson   \n",
       "..                  ...        ...                             ...   \n",
       "68  The Business School  Economics               Dr Luca Salvadori   \n",
       "69  The Business School  Economics              Dr Christopher Lee   \n",
       "70  The Business School  Economics             Professor Ben Groom   \n",
       "71  The Business School  Economics                   Irene McManus   \n",
       "72  The Business School  Economics                       Kate Hind   \n",
       "\n",
       "                                                 role  \\\n",
       "0   Professor of Environmental Economics, Director...   \n",
       "1                    Distinguished Research Professor   \n",
       "2   Associate Professor in Economics, Director of ...   \n",
       "3                    Associate Professor of Economics   \n",
       "4                  Emeritus Professor of Econometrics   \n",
       "..                                                ...   \n",
       "68                Postdoctoral Research Fellow (TARC)   \n",
       "69                         Landscape Decisions Fellow   \n",
       "70     Dragon Capital Chair in Biodiversity Economics   \n",
       "71         Academic Support Administrator (Economics)   \n",
       "72                                SWEEP Impact Fellow   \n",
       "\n",
       "                                                  url  \n",
       "0   https://business-school.exeter.ac.uk/about/peo...  \n",
       "1   https://business-school.exeter.ac.uk/about/peo...  \n",
       "2   https://business-school.exeter.ac.uk/about/peo...  \n",
       "3   https://business-school.exeter.ac.uk/about/peo...  \n",
       "4   https://business-school.exeter.ac.uk/about/peo...  \n",
       "..                                                ...  \n",
       "68  https://business-school.exeter.ac.uk/about/peo...  \n",
       "69  https://business-school.exeter.ac.uk/about/peo...  \n",
       "70  https://business-school.exeter.ac.uk/about/peo...  \n",
       "71  https://business-school.exeter.ac.uk/about/peo...  \n",
       "72  https://business-school.exeter.ac.uk/about/peo...  \n",
       "\n",
       "[73 rows x 5 columns]"
      ]
     },
     "execution_count": 172,
     "metadata": {},
     "output_type": "execute_result"
    }
   ],
   "source": [
    "name = []\n",
    "role = []\n",
    "url = []\n",
    "college = []\n",
    "department = []\n",
    "\n",
    "for i in range(1,500):\n",
    "    path_name = '//*[@class=\"profile_list\"]/tr['+str(i)+']/td[1]/a/text()'\n",
    "    if tree.xpath(path_name) != []:\n",
    "        name.append(tree.xpath(path_name)[0])\n",
    "        path_role = '//*[@class=\"profile_list\"]/tr['+str(i)+']/td[2]/text()'\n",
    "        role.append(tree.xpath(path_role)[0])\n",
    "        path_url = '//*[@class=\"profile_list\"]/tr['+str(i)+']/td[1]/a/@href'\n",
    "        url.append(tree.xpath(path_url)[0])\n",
    "        college.append(\"The Business School\")\n",
    "        department.append(\"Economics\")\n",
    "\n",
    "pd.DataFrame(list(zip(college, department, name, role, url)),\n",
    "            columns=['college', 'department', 'name', 'role', 'url'])"
   ]
  },
  {
   "cell_type": "code",
   "execution_count": 210,
   "metadata": {},
   "outputs": [],
   "source": [
    "url = 'https://business-school.exeter.ac.uk/about/people/pgr/'\n",
    "page = requests.get(url)\n",
    "tree = html.fromstring(page.content)\n",
    "tree.make_links_absolute(url)"
   ]
  },
  {
   "cell_type": "code",
   "execution_count": 222,
   "metadata": {},
   "outputs": [],
   "source": [
    "# Business school\n",
    "urls = [\"https://business-school.exeter.ac.uk/about/people/economics/\",\n",
    "        \"http://business-school.exeter.ac.uk/about/people/finance/\",\n",
    "        \"https://business-school.exeter.ac.uk/about/people/management/\",\n",
    "        \"https://business-school.exeter.ac.uk/about/people/site/\",\n",
    "        \"https://business-school.exeter.ac.uk/about/people/sustainable-futures/\",\n",
    "        \"https://business-school.exeter.ac.uk/about/people/pgr/\"]\n",
    "\n",
    "deps = [\"Economics\", \"Finance and Accounting\", \"Management\",\n",
    "        \"SITE (Science, Innovation, Technology, and Entrepreneurship)\",\n",
    "        \"Sustainable Futures\", \"PGR\"]\n",
    "\n",
    "name = []\n",
    "role = []\n",
    "website = []\n",
    "college = []\n",
    "department = []\n",
    "\n",
    "for i, url in enumerate(urls):\n",
    "    page = requests.get(url)\n",
    "    tree = html.fromstring(page.content)\n",
    "    tree.make_links_absolute(url)\n",
    "    for j in range(1,500):\n",
    "        path_name = '//*[@class=\"profile_list\"]/tr['+str(j)+']/td[1]/a/text()'\n",
    "        if tree.xpath(path_name) != []:\n",
    "            name.append(tree.xpath(path_name)[0])\n",
    "            path_role = '//*[@class=\"profile_list\"]/tr['+str(j)+']/td[2]/text()'\n",
    "            try:\n",
    "                role.append(tree.xpath(path_role)[0])\n",
    "            except: \n",
    "                role.append(\"\")\n",
    "            path_url = '//*[@class=\"profile_list\"]/tr['+str(j)+']/td[1]/a/@href'\n",
    "            try:\n",
    "                website.append(tree.xpath(path_url)[0])\n",
    "            except:\n",
    "                website.append(\"\") \n",
    "            college.append(\"The Business School\")\n",
    "            department.append(deps[i])\n",
    "        \n",
    "businessschool = pd.DataFrame(list(zip(college, department, name, role, website)),\n",
    "                              columns=['college', 'department', 'name', 'role', 'url'])"
   ]
  },
  {
   "cell_type": "code",
   "execution_count": 223,
   "metadata": {},
   "outputs": [
    {
     "data": {
      "text/plain": [
       "Management                                                      79\n",
       "Economics                                                       73\n",
       "SITE (Science, Innovation, Technology, and Entrepreneurship)    63\n",
       "PGR                                                             62\n",
       "Finance and Accounting                                          42\n",
       "Sustainable Futures                                             16\n",
       "Name: department, dtype: int64"
      ]
     },
     "execution_count": 223,
     "metadata": {},
     "output_type": "execute_result"
    }
   ],
   "source": [
    "businessschool.department.value_counts()"
   ]
  },
  {
   "cell_type": "code",
   "execution_count": 191,
   "metadata": {},
   "outputs": [
    {
     "name": "stdout",
     "output_type": "stream",
     "text": [
      "['Professor Saeema Ahmed-Kristensen']\n"
     ]
    }
   ],
   "source": [
    "print(tree.xpath('//*[@class=\"profile_list\"]/tr[2]/td[1]/a/text()'))"
   ]
  },
  {
   "cell_type": "code",
   "execution_count": 195,
   "metadata": {},
   "outputs": [
    {
     "name": "stdout",
     "output_type": "stream",
     "text": [
      "['Professor of Design Engineering and Innovation']\n"
     ]
    }
   ],
   "source": [
    "print(tree.xpath('//*[@class=\"profile_list\"]/tr[2]/td[2]/text()'))"
   ]
  },
  {
   "cell_type": "code",
   "execution_count": null,
   "metadata": {},
   "outputs": [],
   "source": [
    "/html/body/div[2]/div[1]/div[3]/div/table/tbody/tr[2]/td[1]/a\n",
    "/html/body/div[2]/div[1]/div[3]/div/table/tbody/tr[2]/td[2]"
   ]
  }
 ],
 "metadata": {
  "kernelspec": {
   "display_name": "Python 3",
   "language": "python",
   "name": "python3"
  },
  "language_info": {
   "codemirror_mode": {
    "name": "ipython",
    "version": 3
   },
   "file_extension": ".py",
   "mimetype": "text/x-python",
   "name": "python",
   "nbconvert_exporter": "python",
   "pygments_lexer": "ipython3",
   "version": "3.8.10"
  }
 },
 "nbformat": 4,
 "nbformat_minor": 4
}
